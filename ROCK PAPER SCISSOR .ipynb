{
 "cells": [
  {
   "cell_type": "code",
   "execution_count": 1,
   "id": "1cd3361d-8216-4f53-aa2c-7f783ecebbe0",
   "metadata": {},
   "outputs": [
    {
     "name": "stdout",
     "output_type": "stream",
     "text": [
      "\n",
      "==============================\n",
      "Rock Paper Scissors Game\n",
      "==============================\n",
      "Score - You: 0 | Computer: 0\n",
      "\n",
      "Instructions:\n",
      "Enter 'rock', 'paper', or 'scissors'\n",
      "Enter 'quit' to exit the game\n"
     ]
    },
    {
     "name": "stdin",
     "output_type": "stream",
     "text": [
      "\n",
      "Your choice:  rock\n"
     ]
    },
    {
     "name": "stdout",
     "output_type": "stream",
     "text": [
      "\n",
      "You chose: rock\n",
      "Computer chose: rock\n",
      "It's a tie!\n"
     ]
    },
    {
     "name": "stdin",
     "output_type": "stream",
     "text": [
      "\n",
      "Play again? (yes/no):  yes\n"
     ]
    },
    {
     "name": "stdout",
     "output_type": "stream",
     "text": [
      "\n",
      "==============================\n",
      "Rock Paper Scissors Game\n",
      "==============================\n",
      "Score - You: 0 | Computer: 0\n",
      "\n",
      "Instructions:\n",
      "Enter 'rock', 'paper', or 'scissors'\n",
      "Enter 'quit' to exit the game\n"
     ]
    },
    {
     "name": "stdin",
     "output_type": "stream",
     "text": [
      "\n",
      "Your choice:  paper\n"
     ]
    },
    {
     "name": "stdout",
     "output_type": "stream",
     "text": [
      "\n",
      "You chose: paper\n",
      "Computer chose: rock\n",
      "You win! paper beats rock.\n"
     ]
    },
    {
     "name": "stdin",
     "output_type": "stream",
     "text": [
      "\n",
      "Play again? (yes/no):  yes\n"
     ]
    },
    {
     "name": "stdout",
     "output_type": "stream",
     "text": [
      "\n",
      "==============================\n",
      "Rock Paper Scissors Game\n",
      "==============================\n",
      "Score - You: 1 | Computer: 0\n",
      "\n",
      "Instructions:\n",
      "Enter 'rock', 'paper', or 'scissors'\n",
      "Enter 'quit' to exit the game\n"
     ]
    },
    {
     "name": "stdin",
     "output_type": "stream",
     "text": [
      "\n",
      "Your choice:  scissors\n"
     ]
    },
    {
     "name": "stdout",
     "output_type": "stream",
     "text": [
      "\n",
      "You chose: scissors\n",
      "Computer chose: paper\n",
      "You win! scissors beats paper.\n"
     ]
    },
    {
     "name": "stdin",
     "output_type": "stream",
     "text": [
      "\n",
      "Play again? (yes/no):  yes\n"
     ]
    },
    {
     "name": "stdout",
     "output_type": "stream",
     "text": [
      "\n",
      "==============================\n",
      "Rock Paper Scissors Game\n",
      "==============================\n",
      "Score - You: 2 | Computer: 0\n",
      "\n",
      "Instructions:\n",
      "Enter 'rock', 'paper', or 'scissors'\n",
      "Enter 'quit' to exit the game\n"
     ]
    },
    {
     "name": "stdin",
     "output_type": "stream",
     "text": [
      "\n",
      "Your choice:  rock\n"
     ]
    },
    {
     "name": "stdout",
     "output_type": "stream",
     "text": [
      "\n",
      "You chose: rock\n",
      "Computer chose: scissors\n",
      "You win! rock beats scissors.\n"
     ]
    },
    {
     "name": "stdin",
     "output_type": "stream",
     "text": [
      "\n",
      "Play again? (yes/no):  no\n"
     ]
    },
    {
     "name": "stdout",
     "output_type": "stream",
     "text": [
      "\n",
      "Final Score:\n",
      "You: 3 | Computer: 0\n",
      "You won the game! 🎉\n",
      "\n",
      "Thanks for playing!\n"
     ]
    }
   ],
   "source": [
    "import random\n",
    "\n",
    "def play_game():\n",
    "    # Initialize scores\n",
    "    user_score = 0\n",
    "    computer_score = 0\n",
    "    \n",
    "    while True:\n",
    "        print(\"\\n\" + \"=\"*30)\n",
    "        print(\"Rock Paper Scissors Game\")\n",
    "        print(\"=\"*30)\n",
    "        print(f\"Score - You: {user_score} | Computer: {computer_score}\")\n",
    "        print(\"\\nInstructions:\")\n",
    "        print(\"Enter 'rock', 'paper', or 'scissors'\")\n",
    "        print(\"Enter 'quit' to exit the game\")\n",
    "        \n",
    "        # User input\n",
    "        user_choice = input(\"\\nYour choice: \").lower()\n",
    "        \n",
    "        # Check if user wants to quit\n",
    "        if user_choice == 'quit':\n",
    "            print(\"\\nFinal Score:\")\n",
    "            print(f\"You: {user_score} | Computer: {computer_score}\")\n",
    "            if user_score > computer_score:\n",
    "                print(\"You won the game! 🎉\")\n",
    "            elif user_score < computer_score:\n",
    "                print(\"Computer won the game. 😢\")\n",
    "            else:\n",
    "                print(\"The game ended in a tie. 🤝\")\n",
    "            print(\"\\nThanks for playing!\")\n",
    "            break\n",
    "        \n",
    "        # Validate user input\n",
    "        if user_choice not in ['rock', 'paper', 'scissors']:\n",
    "            print(\"Invalid choice. Please try again.\")\n",
    "            continue\n",
    "        \n",
    "        # Computer selection\n",
    "        computer_choice = random.choice(['rock', 'paper', 'scissors'])\n",
    "        \n",
    "        # Determine winner\n",
    "        print(f\"\\nYou chose: {user_choice}\")\n",
    "        print(f\"Computer chose: {computer_choice}\")\n",
    "        \n",
    "        if user_choice == computer_choice:\n",
    "            print(\"It's a tie!\")\n",
    "        elif (user_choice == 'rock' and computer_choice == 'scissors') or \\\n",
    "             (user_choice == 'scissors' and computer_choice == 'paper') or \\\n",
    "             (user_choice == 'paper' and computer_choice == 'rock'):\n",
    "            print(f\"You win! {user_choice} beats {computer_choice}.\")\n",
    "            user_score += 1\n",
    "        else:\n",
    "            print(f\"You lose! {computer_choice} beats {user_choice}.\")\n",
    "            computer_score += 1\n",
    "        \n",
    "        # Ask to play again\n",
    "        play_again = input(\"\\nPlay again? (yes/no): \").lower()\n",
    "        if play_again != 'yes':\n",
    "            print(\"\\nFinal Score:\")\n",
    "            print(f\"You: {user_score} | Computer: {computer_score}\")\n",
    "            if user_score > computer_score:\n",
    "                print(\"You won the game! 🎉\")\n",
    "            elif user_score < computer_score:\n",
    "                print(\"Computer won the game. 😢\")\n",
    "            else:\n",
    "                print(\"The game ended in a tie. 🤝\")\n",
    "            print(\"\\nThanks for playing!\")\n",
    "            break\n",
    "\n",
    "# Start the game\n",
    "play_game()"
   ]
  },
  {
   "cell_type": "code",
   "execution_count": null,
   "id": "590cd025-d6cc-453f-974b-0609f089c850",
   "metadata": {},
   "outputs": [],
   "source": []
  }
 ],
 "metadata": {
  "kernelspec": {
   "display_name": "Python [conda env:base] *",
   "language": "python",
   "name": "conda-base-py"
  },
  "language_info": {
   "codemirror_mode": {
    "name": "ipython",
    "version": 3
   },
   "file_extension": ".py",
   "mimetype": "text/x-python",
   "name": "python",
   "nbconvert_exporter": "python",
   "pygments_lexer": "ipython3",
   "version": "3.12.7"
  }
 },
 "nbformat": 4,
 "nbformat_minor": 5
}
